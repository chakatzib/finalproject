{
 "cells": [
  {
   "cell_type": "code",
   "execution_count": null,
   "id": "0a6ffc43",
   "metadata": {},
   "outputs": [
    {
     "name": "stdout",
     "output_type": "stream",
     "text": [
      "6\n",
      "8\n",
      "Enter an x coordinate.6\n",
      "Enter a y coordinate.8\n"
     ]
    }
   ],
   "source": [
    "import random\n",
    "playerxHit=True\n",
    "playeryHit=True\n",
    "xcoord=random.randint(0,9)\n",
    "xcoordGuess=\"\"\n",
    "print(xcoord)\n",
    "ycoord=random.randint(0,9)\n",
    "ycoordGuess=\"\"\n",
    "print(ycoord)\n",
    "while playerxHit==True or playeryHit==True:\n",
    "    xcoordGuess=input(\"Enter an x coordinate.\")\n",
    "    guessedxCoord=int()\n",
    "    ycoordGuess=input(\"Enter a y coordinate.\")\n",
    "    guessedyCoord=int()\n",
    "    if xcoordGuess==\"0\"or\"zero\":\n",
    "        guessedxCoord=0\n",
    "        if guessedxCoord==xcoord:\n",
    "            playerxHit=False\n",
    "    elif xcoordGuess==\"1\"or\"one\":\n",
    "        guessedxCoord=1\n",
    "        if guessedxCoord==xcoord:\n",
    "            playerxHit=False\n",
    "    elif xcoordGuess==\"2\" or \"two\":\n",
    "        guessedxCoord=2\n",
    "        if guessedxCoord==xcoord:\n",
    "            playerxHit=False\n",
    "            playeryHit=False\n",
    "    elif xcoordGuess==\"3\" or \"three\":\n",
    "        guessedxCoord=3\n",
    "        if guessedxCoord==xcoord:\n",
    "            playerxHit=False\n",
    "    elif xcoordGuess==\"4\"or\"four\":\n",
    "        guessedxCoord=4\n",
    "        if guessedxCoord==xcoord:\n",
    "            playerxHit=False\n",
    "    elif xcoordGuess==\"5\"or\"five\":\n",
    "        guessedxCoord=5\n",
    "        if guessedxCoord==xcoord:\n",
    "            playerxHit=False\n",
    "    elif xcoordGuess==\"6\"or\"six\":\n",
    "        guessedxCoord=6\n",
    "        if guessedxCoord==xcoord:\n",
    "            playerxHit=False\n",
    "    elif xcoordGuess==\"7\"or\"seven\":\n",
    "        guessedxCoord=7\n",
    "        if guessedxCoord==xcoord:\n",
    "            playerxHit=False\n",
    "    elif xcoordGuess==\"8\"or\"eight\":\n",
    "        guessedxCoord=8\n",
    "        if guessedxCoord==xcoord:\n",
    "            playerxHit=False\n",
    "    elif xcoordGuess==\"9\"or\"nine\":\n",
    "        guessedxCoord=9\n",
    "        if guessedxCoord==xcoord:\n",
    "            playerxHit=False\n",
    "    \n",
    "        \n",
    "    \n",
    "    \n",
    "        \n",
    "        "
   ]
  },
  {
   "cell_type": "code",
   "execution_count": null,
   "id": "1dce94f6",
   "metadata": {},
   "outputs": [],
   "source": []
  }
 ],
 "metadata": {
  "kernelspec": {
   "display_name": "Python 3 (ipykernel)",
   "language": "python",
   "name": "python3"
  },
  "language_info": {
   "codemirror_mode": {
    "name": "ipython",
    "version": 3
   },
   "file_extension": ".py",
   "mimetype": "text/x-python",
   "name": "python",
   "nbconvert_exporter": "python",
   "pygments_lexer": "ipython3",
   "version": "3.9.13"
  }
 },
 "nbformat": 4,
 "nbformat_minor": 5
}
